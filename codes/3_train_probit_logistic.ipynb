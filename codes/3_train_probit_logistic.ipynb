{
 "cells": [
  {
   "cell_type": "code",
   "execution_count": 1,
   "metadata": {},
   "outputs": [],
   "source": [
    "import pandas as pd\n",
    "import numpy as np\n",
    "import os\n",
    "from matplotlib import pyplot as plt\n",
    "import seaborn as sns\n",
    "from Models import probitModel, logisticModel\n",
    "from util import *\n",
    "from sklearn.preprocessing import *\n",
    "from sklearn.impute import *\n",
    "from sklearn.decomposition import PCA\n",
    "\n",
    "import json\n",
    "import joblib"
   ]
  },
  {
   "cell_type": "code",
   "execution_count": 2,
   "metadata": {},
   "outputs": [
    {
     "data": {
      "text/html": [
       "<div>\n",
       "<style scoped>\n",
       "    .dataframe tbody tr th:only-of-type {\n",
       "        vertical-align: middle;\n",
       "    }\n",
       "\n",
       "    .dataframe tbody tr th {\n",
       "        vertical-align: top;\n",
       "    }\n",
       "\n",
       "    .dataframe thead th {\n",
       "        text-align: right;\n",
       "    }\n",
       "</style>\n",
       "<table border=\"1\" class=\"dataframe\">\n",
       "  <thead>\n",
       "    <tr style=\"text-align: right;\">\n",
       "      <th></th>\n",
       "      <th>Fraction inspired oxygen_mean</th>\n",
       "      <th>Fraction inspired oxygen_min</th>\n",
       "      <th>Fraction inspired oxygen_max</th>\n",
       "      <th>Glucose_mean</th>\n",
       "      <th>Glucose_min</th>\n",
       "      <th>Glucose_max</th>\n",
       "      <th>Heart Rate_mean</th>\n",
       "      <th>Heart Rate_min</th>\n",
       "      <th>Heart Rate_max</th>\n",
       "      <th>Mean blood pressure_mean</th>\n",
       "      <th>...</th>\n",
       "      <th>Temperature_mean</th>\n",
       "      <th>Temperature_min</th>\n",
       "      <th>Temperature_max</th>\n",
       "      <th>Weight_mean</th>\n",
       "      <th>Weight_min</th>\n",
       "      <th>Weight_max</th>\n",
       "      <th>pH_mean</th>\n",
       "      <th>pH_min</th>\n",
       "      <th>pH_max</th>\n",
       "      <th>mortality</th>\n",
       "    </tr>\n",
       "  </thead>\n",
       "  <tbody>\n",
       "    <tr>\n",
       "      <th>0</th>\n",
       "      <td>0.484615</td>\n",
       "      <td>0.4</td>\n",
       "      <td>0.6</td>\n",
       "      <td>155.181818</td>\n",
       "      <td>52.0</td>\n",
       "      <td>280.0</td>\n",
       "      <td>52.367347</td>\n",
       "      <td>35.0</td>\n",
       "      <td>93.0</td>\n",
       "      <td>87.096154</td>\n",
       "      <td>...</td>\n",
       "      <td>36.356349</td>\n",
       "      <td>35.200000</td>\n",
       "      <td>37.100000</td>\n",
       "      <td>81.419764</td>\n",
       "      <td>81.419764</td>\n",
       "      <td>81.419764</td>\n",
       "      <td>7.328750</td>\n",
       "      <td>7.19</td>\n",
       "      <td>7.40</td>\n",
       "      <td>1.0</td>\n",
       "    </tr>\n",
       "    <tr>\n",
       "      <th>1</th>\n",
       "      <td>0.600000</td>\n",
       "      <td>0.5</td>\n",
       "      <td>1.0</td>\n",
       "      <td>127.954545</td>\n",
       "      <td>85.0</td>\n",
       "      <td>177.0</td>\n",
       "      <td>72.660377</td>\n",
       "      <td>58.0</td>\n",
       "      <td>105.0</td>\n",
       "      <td>72.315789</td>\n",
       "      <td>...</td>\n",
       "      <td>36.786325</td>\n",
       "      <td>36.388889</td>\n",
       "      <td>37.055556</td>\n",
       "      <td>93.103510</td>\n",
       "      <td>91.807021</td>\n",
       "      <td>95.000000</td>\n",
       "      <td>7.377143</td>\n",
       "      <td>7.34</td>\n",
       "      <td>7.42</td>\n",
       "      <td>0.0</td>\n",
       "    </tr>\n",
       "    <tr>\n",
       "      <th>2</th>\n",
       "      <td>0.481250</td>\n",
       "      <td>0.4</td>\n",
       "      <td>0.8</td>\n",
       "      <td>145.625000</td>\n",
       "      <td>116.0</td>\n",
       "      <td>180.0</td>\n",
       "      <td>107.260000</td>\n",
       "      <td>96.0</td>\n",
       "      <td>118.0</td>\n",
       "      <td>86.462963</td>\n",
       "      <td>...</td>\n",
       "      <td>37.316239</td>\n",
       "      <td>36.611111</td>\n",
       "      <td>37.944444</td>\n",
       "      <td>67.500000</td>\n",
       "      <td>67.500000</td>\n",
       "      <td>67.500000</td>\n",
       "      <td>7.372000</td>\n",
       "      <td>7.29</td>\n",
       "      <td>7.45</td>\n",
       "      <td>0.0</td>\n",
       "    </tr>\n",
       "    <tr>\n",
       "      <th>3</th>\n",
       "      <td>0.400000</td>\n",
       "      <td>0.4</td>\n",
       "      <td>0.4</td>\n",
       "      <td>100.142857</td>\n",
       "      <td>77.0</td>\n",
       "      <td>154.0</td>\n",
       "      <td>57.250000</td>\n",
       "      <td>47.0</td>\n",
       "      <td>65.0</td>\n",
       "      <td>69.762712</td>\n",
       "      <td>...</td>\n",
       "      <td>NaN</td>\n",
       "      <td>NaN</td>\n",
       "      <td>NaN</td>\n",
       "      <td>80.403091</td>\n",
       "      <td>76.838485</td>\n",
       "      <td>86.000000</td>\n",
       "      <td>7.161250</td>\n",
       "      <td>6.00</td>\n",
       "      <td>7.36</td>\n",
       "      <td>1.0</td>\n",
       "    </tr>\n",
       "    <tr>\n",
       "      <th>4</th>\n",
       "      <td>0.566667</td>\n",
       "      <td>0.4</td>\n",
       "      <td>1.0</td>\n",
       "      <td>138.000000</td>\n",
       "      <td>116.0</td>\n",
       "      <td>155.0</td>\n",
       "      <td>84.015625</td>\n",
       "      <td>64.0</td>\n",
       "      <td>114.0</td>\n",
       "      <td>70.662162</td>\n",
       "      <td>...</td>\n",
       "      <td>36.148990</td>\n",
       "      <td>34.722222</td>\n",
       "      <td>37.666667</td>\n",
       "      <td>NaN</td>\n",
       "      <td>NaN</td>\n",
       "      <td>NaN</td>\n",
       "      <td>7.374444</td>\n",
       "      <td>7.27</td>\n",
       "      <td>7.42</td>\n",
       "      <td>1.0</td>\n",
       "    </tr>\n",
       "  </tbody>\n",
       "</table>\n",
       "<p>5 rows × 34 columns</p>\n",
       "</div>"
      ],
      "text/plain": [
       "   Fraction inspired oxygen_mean  Fraction inspired oxygen_min  \\\n",
       "0                       0.484615                           0.4   \n",
       "1                       0.600000                           0.5   \n",
       "2                       0.481250                           0.4   \n",
       "3                       0.400000                           0.4   \n",
       "4                       0.566667                           0.4   \n",
       "\n",
       "   Fraction inspired oxygen_max  Glucose_mean  Glucose_min  Glucose_max  \\\n",
       "0                           0.6    155.181818         52.0        280.0   \n",
       "1                           1.0    127.954545         85.0        177.0   \n",
       "2                           0.8    145.625000        116.0        180.0   \n",
       "3                           0.4    100.142857         77.0        154.0   \n",
       "4                           1.0    138.000000        116.0        155.0   \n",
       "\n",
       "   Heart Rate_mean  Heart Rate_min  Heart Rate_max  Mean blood pressure_mean  \\\n",
       "0        52.367347            35.0            93.0                 87.096154   \n",
       "1        72.660377            58.0           105.0                 72.315789   \n",
       "2       107.260000            96.0           118.0                 86.462963   \n",
       "3        57.250000            47.0            65.0                 69.762712   \n",
       "4        84.015625            64.0           114.0                 70.662162   \n",
       "\n",
       "   ...  Temperature_mean  Temperature_min  Temperature_max  Weight_mean  \\\n",
       "0  ...         36.356349        35.200000        37.100000    81.419764   \n",
       "1  ...         36.786325        36.388889        37.055556    93.103510   \n",
       "2  ...         37.316239        36.611111        37.944444    67.500000   \n",
       "3  ...               NaN              NaN              NaN    80.403091   \n",
       "4  ...         36.148990        34.722222        37.666667          NaN   \n",
       "\n",
       "   Weight_min  Weight_max   pH_mean  pH_min  pH_max  mortality  \n",
       "0   81.419764   81.419764  7.328750    7.19    7.40        1.0  \n",
       "1   91.807021   95.000000  7.377143    7.34    7.42        0.0  \n",
       "2   67.500000   67.500000  7.372000    7.29    7.45        0.0  \n",
       "3   76.838485   86.000000  7.161250    6.00    7.36        1.0  \n",
       "4         NaN         NaN  7.374444    7.27    7.42        1.0  \n",
       "\n",
       "[5 rows x 34 columns]"
      ]
     },
     "execution_count": 2,
     "metadata": {},
     "output_type": "execute_result"
    }
   ],
   "source": [
    "SEED = 1\n",
    "\n",
    "data_folder = 'data'\n",
    "df = pd.read_csv(os.path.join(data_folder,'mimiciv_traindata.csv'))\n",
    "df.head()"
   ]
  },
  {
   "cell_type": "code",
   "execution_count": 3,
   "metadata": {},
   "outputs": [],
   "source": [
    "x = compute_features(df.drop('mortality',axis=1))\n",
    "y = df.mortality.values"
   ]
  },
  {
   "cell_type": "code",
   "execution_count": 4,
   "metadata": {},
   "outputs": [
    {
     "name": "stdout",
     "output_type": "stream",
     "text": [
      "{'l1': 0.006171888786369539, 'l2': 0.0405715442762844, 'n_neighbors': 11.767930181820343}\n",
      "{'l1': 0.0027408409818461266, 'l2': 0.00904159656998016, 'n_neighbors': 14.699223795046494}\n"
     ]
    }
   ],
   "source": [
    "# base pipeline is the common step for both models\n",
    "base_pipeline = [\n",
    "    ('scaler', QuantileTransformer(output_distribution='normal', ignore_implicit_zeros=False)),\n",
    "]\n",
    "\n",
    "with open('../others/probit.json','r') as f:\n",
    "    probit_param = json.load(f)\n",
    "with open('../others/logistic.json','r') as f:\n",
    "    logistic_param = json.load(f)\n",
    "\n",
    "print(probit_param)\n",
    "print(logistic_param)\n",
    "    "
   ]
  },
  {
   "cell_type": "markdown",
   "metadata": {},
   "source": [
    "# Probit Model"
   ]
  },
  {
   "cell_type": "code",
   "execution_count": 5,
   "metadata": {},
   "outputs": [
    {
     "name": "stdout",
     "output_type": "stream",
     "text": [
      "Loss improved, update best parameters.\n",
      "Current loss: 0.8831531042409062 Best loss: 0.8831531042409062\n",
      "Loss improved, update best parameters.\n",
      "Current loss: 0.694033011224544 Best loss: 0.694033011224544\n",
      "Loss improved, update best parameters.\n",
      "Current loss: 0.568256878499415 Best loss: 0.568256878499415\n",
      "Loss improved, update best parameters.\n",
      "Current loss: 0.5017217639214614 Best loss: 0.5017217639214614\n",
      "Loss improved, update best parameters.\n",
      "Current loss: 0.49605496545475164 Best loss: 0.49605496545475164\n",
      "Loss improved, update best parameters.\n",
      "Current loss: 0.4956029987635716 Best loss: 0.4956029987635716\n",
      "Loss improved, update best parameters.\n",
      "Current loss: 0.49476324782842795 Best loss: 0.49476324782842795\n",
      "Loss improved, update best parameters.\n",
      "Current loss: 0.4946521815427499 Best loss: 0.4946521815427499\n",
      "Optimization result: Optimization terminated successfully\n",
      "Wald test summary:\n",
      "+----+---------+--------------+-----------+---------+---------+\n",
      "|    |   index |         coef |   std err |       z |   P>|z| |\n",
      "|----+---------+--------------+-----------+---------+---------|\n",
      "|  0 |      19 | -0.0482094   |    0.0329 | -1.4637 |  0.1433 |\n",
      "|  1 |      21 |  0.0955679   |    0.0862 |  1.1089 |  0.2675 |\n",
      "|  2 |      25 | -0.0563576   |    0.0521 | -1.0824 |  0.2791 |\n",
      "|  3 |      66 | -0.0571926   |    0.0577 | -0.9913 |  0.3215 |\n",
      "|  4 |      24 | -0.0686125   |    0.0791 | -0.8672 |  0.3858 |\n",
      "|  5 |      59 | -0.0542263   |    0.0779 | -0.696  |  0.4864 |\n",
      "|  6 |      31 | -0.0110325   |    0.019  | -0.5816 |  0.5609 |\n",
      "|  7 |       8 |  0.0615865   |    0.116  |  0.5308 |  0.5956 |\n",
      "|  8 |      12 | -0.0411843   |    0.0861 | -0.4782 |  0.6325 |\n",
      "|  9 |      16 | -0.0316401   |    0.0721 | -0.4386 |  0.6609 |\n",
      "| 10 |      15 | -0.0394984   |    0.0947 | -0.4169 |  0.6767 |\n",
      "| 11 |      23 |  0.0390899   |    0.0948 |  0.4125 |  0.68   |\n",
      "| 12 |      64 | -0.0485032   |    0.1194 | -0.4062 |  0.6846 |\n",
      "| 13 |      40 |  0.0210434   |    0.0556 |  0.3783 |  0.7052 |\n",
      "| 14 |      61 |  0.0319531   |    0.0993 |  0.3216 |  0.7477 |\n",
      "| 15 |      44 |  0.0149771   |    0.0474 |  0.3157 |  0.7522 |\n",
      "| 16 |       6 |  0.0402355   |    0.1287 |  0.3127 |  0.7545 |\n",
      "| 17 |       3 |  0.032378    |    0.1157 |  0.2797 |  0.7797 |\n",
      "| 18 |      57 | -0.0245487   |    0.0901 | -0.2724 |  0.7853 |\n",
      "| 19 |       1 |  0.0124542   |    0.0571 |  0.2181 |  0.8274 |\n",
      "| 20 |       9 | -0.0176384   |    0.0835 | -0.2114 |  0.8326 |\n",
      "| 21 |      13 | -0.0128414   |    0.0625 | -0.2054 |  0.8372 |\n",
      "| 22 |      47 | -0.023062    |    0.1297 | -0.1778 |  0.8588 |\n",
      "| 23 |      58 | -0.00970524  |    0.0551 | -0.1761 |  0.8602 |\n",
      "| 24 |      32 | -0.00690006  |    0.0408 | -0.1693 |  0.8656 |\n",
      "| 25 |      26 | -0.0133949   |    0.0813 | -0.1648 |  0.8691 |\n",
      "| 26 |      18 |  0.0136386   |    0.0917 |  0.1487 |  0.8818 |\n",
      "| 27 |      55 |  0.0138225   |    0.0947 |  0.1459 |  0.884  |\n",
      "| 28 |      30 |  0.00709351  |    0.0502 |  0.1412 |  0.8877 |\n",
      "| 29 |      29 | -0.0342701   |    0.2583 | -0.1327 |  0.8944 |\n",
      "| 30 |      43 |  0.0217394   |    0.1666 |  0.1304 |  0.8962 |\n",
      "| 31 |       5 |  0.013785    |    0.1165 |  0.1183 |  0.9058 |\n",
      "| 32 |      35 |  0.020193    |    0.1726 |  0.117  |  0.9069 |\n",
      "| 33 |      45 | -0.00907857  |    0.0792 | -0.1146 |  0.9087 |\n",
      "| 34 |      67 | -0.00579601  |    0.0652 | -0.089  |  0.9291 |\n",
      "| 35 |      62 |  0.0111413   |    0.1266 |  0.088  |  0.9298 |\n",
      "| 36 |      60 |  0.0080987   |    0.0985 |  0.0822 |  0.9345 |\n",
      "| 37 |      22 | -0.00432553  |    0.0533 | -0.0811 |  0.9354 |\n",
      "| 38 |      46 | -0.00758303  |    0.1016 | -0.0747 |  0.9405 |\n",
      "| 39 |       7 |  0.00758769  |    0.1064 |  0.0713 |  0.9431 |\n",
      "| 40 |       4 |  0.00338903  |    0.0574 |  0.0591 |  0.9529 |\n",
      "| 41 |      41 |  0.0104086   |    0.1778 |  0.0585 |  0.9533 |\n",
      "| 42 |      27 | -0.0242989   |    0.4216 | -0.0576 |  0.954  |\n",
      "| 43 |      48 |  0.0051534   |    0.0904 |  0.057  |  0.9545 |\n",
      "| 44 |      56 |  0.00617129  |    0.1123 |  0.0549 |  0.9562 |\n",
      "| 45 |      50 |  0.00426456  |    0.0808 |  0.0528 |  0.9579 |\n",
      "| 46 |      10 |  0.00329364  |    0.0681 |  0.0484 |  0.9614 |\n",
      "| 47 |      52 | -0.00368324  |    0.0808 | -0.0456 |  0.9636 |\n",
      "| 48 |      42 | -0.00740199  |    0.1741 | -0.0425 |  0.9661 |\n",
      "| 49 |      33 | -0.00366152  |    0.0903 | -0.0405 |  0.9677 |\n",
      "| 50 |       0 |  0.00330467  |    0.0889 |  0.0372 |  0.9704 |\n",
      "| 51 |      28 | -0.00699905  |    0.1908 | -0.0367 |  0.9707 |\n",
      "| 52 |      65 |  0.00211557  |    0.0728 |  0.0291 |  0.9768 |\n",
      "| 53 |      17 | -0.00422597  |    0.1461 | -0.0289 |  0.9769 |\n",
      "| 54 |      53 | -0.00275509  |    0.1042 | -0.0264 |  0.9789 |\n",
      "| 55 |      20 |  0.00134622  |    0.0557 |  0.0242 |  0.9807 |\n",
      "| 56 |      38 |  0.00488029  |    0.2168 |  0.0225 |  0.982  |\n",
      "| 57 |      37 |  0.00408646  |    0.1892 |  0.0216 |  0.9828 |\n",
      "| 58 |      11 |  0.00168693  |    0.1124 |  0.015  |  0.988  |\n",
      "| 59 |      39 |  0.00219358  |    0.1586 |  0.0138 |  0.989  |\n",
      "| 60 |      49 | -0.00122617  |    0.0966 | -0.0127 |  0.9899 |\n",
      "| 61 |      63 |  0.0014652   |    0.1268 |  0.0116 |  0.9908 |\n",
      "| 62 |      36 | -0.00130664  |    0.1463 | -0.0089 |  0.9929 |\n",
      "| 63 |      51 |  0.000752417 |    0.0904 |  0.0083 |  0.9934 |\n",
      "| 64 |       2 | -0.000410971 |    0.0875 | -0.0047 |  0.9963 |\n",
      "| 65 |      54 |  0.000461343 |    0.1148 |  0.004  |  0.9968 |\n",
      "| 66 |      14 | -0.000434024 |    0.1388 | -0.0031 |  0.9975 |\n",
      "| 67 |      34 | -8.2067e-05  |    0.197  | -0.0004 |  0.9997 |\n",
      "+----+---------+--------------+-----------+---------+---------+\n"
     ]
    }
   ],
   "source": [
    "probit_pipeline = base_pipeline + [\n",
    "        ('iso_forest', FeatureTransformer(fnames=x.columns, n_neighbors=int(probit_param['n_neighbors']))),\n",
    "        ('imputer', KNNImputer(missing_values=np.nan, n_neighbors=int(probit_param['n_neighbors']))),\n",
    "]\n",
    "\n",
    "probit_pipeline = Pipeline(probit_pipeline)\n",
    "probit_x = probit_pipeline.fit_transform(x)\n",
    "probit = probitModel(l1=probit_param['l1'], l2=probit_param['l2'], w=0.75)\n",
    "\n",
    "# smaller tol for improved accuracy\n",
    "res_dict = probit.fit(probit_x, y, verbose=True, wald=True)\n",
    "result = res_dict['result']\n",
    "loss_values = res_dict['loss']"
   ]
  },
  {
   "cell_type": "code",
   "execution_count": 6,
   "metadata": {},
   "outputs": [
    {
     "data": {
      "image/png": "[encoded data removed]",
      "text/plain": [
       "<Figure size 1000x600 with 1 Axes>"
      ]
     },
     "metadata": {},
     "output_type": "display_data"
    }
   ],
   "source": [
    "plt.figure(figsize=(10, 6))\n",
    "plt.plot(loss_values, marker='.', linestyle='-')\n",
    "plt.title('Probit Loss Value During Optimization')\n",
    "plt.xlabel('Iteration')\n",
    "plt.ylabel('Loss Value')\n",
    "plt.grid()\n",
    "plt.show()"
   ]
  },
  {
   "cell_type": "markdown",
   "metadata": {},
   "source": [
    "## Wald test result and model interpretation"
   ]
  },
  {
   "cell_type": "code",
   "execution_count": 7,
   "metadata": {},
   "outputs": [
    {
     "data": {
      "text/html": [
       "<div>\n",
       "<style scoped>\n",
       "    .dataframe tbody tr th:only-of-type {\n",
       "        vertical-align: middle;\n",
       "    }\n",
       "\n",
       "    .dataframe tbody tr th {\n",
       "        vertical-align: top;\n",
       "    }\n",
       "\n",
       "    .dataframe thead th {\n",
       "        text-align: right;\n",
       "    }\n",
       "</style>\n",
       "<table border=\"1\" class=\"dataframe\">\n",
       "  <thead>\n",
       "    <tr style=\"text-align: right;\">\n",
       "      <th></th>\n",
       "      <th>feature</th>\n",
       "      <th>coef</th>\n",
       "      <th>std err</th>\n",
       "      <th>z</th>\n",
       "      <th>P&gt;|z|</th>\n",
       "    </tr>\n",
       "  </thead>\n",
       "  <tbody>\n",
       "    <tr>\n",
       "      <th>0</th>\n",
       "      <td>Oxygen saturation_min</td>\n",
       "      <td>-0.048209</td>\n",
       "      <td>0.0329</td>\n",
       "      <td>-1.4637</td>\n",
       "      <td>0.1433</td>\n",
       "    </tr>\n",
       "    <tr>\n",
       "      <th>1</th>\n",
       "      <td>Respiratory rate_mean</td>\n",
       "      <td>0.095568</td>\n",
       "      <td>0.0862</td>\n",
       "      <td>1.1089</td>\n",
       "      <td>0.2675</td>\n",
       "    </tr>\n",
       "    <tr>\n",
       "      <th>2</th>\n",
       "      <td>Temperature_min</td>\n",
       "      <td>-0.056358</td>\n",
       "      <td>0.0521</td>\n",
       "      <td>-1.0824</td>\n",
       "      <td>0.2791</td>\n",
       "    </tr>\n",
       "    <tr>\n",
       "      <th>3</th>\n",
       "      <td>is_outlier</td>\n",
       "      <td>-0.057193</td>\n",
       "      <td>0.0577</td>\n",
       "      <td>-0.9913</td>\n",
       "      <td>0.3215</td>\n",
       "    </tr>\n",
       "    <tr>\n",
       "      <th>4</th>\n",
       "      <td>Temperature_mean</td>\n",
       "      <td>-0.068612</td>\n",
       "      <td>0.0791</td>\n",
       "      <td>-0.8672</td>\n",
       "      <td>0.3858</td>\n",
       "    </tr>\n",
       "  </tbody>\n",
       "</table>\n",
       "</div>"
      ],
      "text/plain": [
       "                 feature      coef  std err       z   P>|z|\n",
       "0  Oxygen saturation_min -0.048209   0.0329 -1.4637  0.1433\n",
       "1  Respiratory rate_mean  0.095568   0.0862  1.1089  0.2675\n",
       "2        Temperature_min -0.056358   0.0521 -1.0824  0.2791\n",
       "3             is_outlier -0.057193   0.0577 -0.9913  0.3215\n",
       "4       Temperature_mean -0.068612   0.0791 -0.8672  0.3858"
      ]
     },
     "execution_count": 7,
     "metadata": {},
     "output_type": "execute_result"
    }
   ],
   "source": [
    "# iso_forest in pipeline will add a feature 'is_outlier', and last parameter in the model is the bias term\n",
    "fnames = x.columns.to_list()+['is_outlier']+['bias']\n",
    "# map the indices back to feature names\n",
    "index_to_feature = dict(zip(range(len(fnames)),fnames))\n",
    "wald_res = res_dict['wald_result']\n",
    "wald_res['index'] = wald_res['index'].replace(index_to_feature, inplace=False)\n",
    "wald_res.rename(columns={'index':'feature'}, inplace=True)\n",
    "# show top 5 important features, wald test result is sorted by p-value in acsending order\n",
    "wald_res.head(5)\n"
   ]
  },
  {
   "cell_type": "markdown",
   "metadata": {},
   "source": [
    "### Interpretation\n",
    "Positive coef -> higher feature value, higher mortality risk\n",
    "\n",
    "Negative coef -> higher feature value, lower mortality risk\n",
    "- Higher Oxygen saturation_min decrease mortality risk (or lower increase risk)\n",
    "- Higher Respiratory rate_mean increases mortality risk\n",
    "- Higher Temperature_min decrease mortality risk (or lower increase risk)\n",
    "- Inliniers (1 for inliner, -1 for outlier) lower mortality risk (outliers higher risk)\n",
    "- Higher Temperature_mean decrease mortality risk (or lower increase risk)\n",
    "\n"
   ]
  },
  {
   "cell_type": "markdown",
   "metadata": {},
   "source": [
    "## Saving the model"
   ]
  },
  {
   "cell_type": "code",
   "execution_count": 8,
   "metadata": {},
   "outputs": [
    {
     "data": {
      "text/plain": [
       "['../others/probit.pkl']"
      ]
     },
     "execution_count": 8,
     "metadata": {},
     "output_type": "execute_result"
    }
   ],
   "source": [
    "joblib.dump(probit_pipeline, '../others/probit_pipeline.pkl')\n",
    "joblib.dump(probit, '../others/probit.pkl')"
   ]
  },
  {
   "cell_type": "markdown",
   "metadata": {},
   "source": [
    "# Logistic Model"
   ]
  },
  {
   "cell_type": "code",
   "execution_count": 9,
   "metadata": {},
   "outputs": [
    {
     "name": "stdout",
     "output_type": "stream",
     "text": [
      "Loss improved, update best parameters.\n",
      "Current loss: 0.5195174335708473 Best loss: 0.5195174335708473\n",
      "Loss improved, update best parameters.\n",
      "Current loss: 0.5151596548781837 Best loss: 0.5151596548781837\n",
      "Loss improved, update best parameters.\n",
      "Current loss: 0.4945718343928413 Best loss: 0.4945718343928413\n",
      "Loss improved, update best parameters.\n",
      "Current loss: 0.4879144868242139 Best loss: 0.4879144868242139\n",
      "Loss improved, update best parameters.\n",
      "Current loss: 0.4869145947288032 Best loss: 0.4869145947288032\n",
      "Loss improved, update best parameters.\n",
      "Current loss: 0.48618940229851404 Best loss: 0.48618940229851404\n",
      "Loss improved, update best parameters.\n",
      "Current loss: 0.485800597889529 Best loss: 0.485800597889529\n",
      "Loss improved, update best parameters.\n",
      "Current loss: 0.48557389340745805 Best loss: 0.48557389340745805\n",
      "Loss improved, update best parameters.\n",
      "Current loss: 0.48540545505541266 Best loss: 0.48540545505541266\n",
      "Loss improved, update best parameters.\n",
      "Current loss: 0.4852820338523064 Best loss: 0.4852820338523064\n",
      "Loss improved, update best parameters.\n",
      "Current loss: 0.48518153742374626 Best loss: 0.48518153742374626\n",
      "Loss improved, update best parameters.\n",
      "Current loss: 0.48511977376504645 Best loss: 0.48511977376504645\n",
      "Optimization result: Optimization terminated successfully\n",
      "Wald test summary:\n",
      "+----+---------+--------------+-----------+---------+---------+\n",
      "|    |   index |         coef |   std err |       z |   P>|z| |\n",
      "|----+---------+--------------+-----------+---------+---------|\n",
      "|  0 |      19 | -0.105109    |    0.0551 | -1.9064 |  0.0566 |\n",
      "|  1 |      66 | -0.151197    |    0.0978 | -1.5462 |  0.1221 |\n",
      "|  2 |      21 |  0.1822      |    0.1419 |  1.2836 |  0.1993 |\n",
      "|  3 |      24 | -0.145546    |    0.13   | -1.1199 |  0.2627 |\n",
      "|  4 |      25 | -0.0933385   |    0.0847 | -1.1015 |  0.2707 |\n",
      "|  5 |      59 | -0.105056    |    0.1286 | -0.8171 |  0.4139 |\n",
      "|  6 |       8 |  0.135683    |    0.1904 |  0.7126 |  0.4761 |\n",
      "|  7 |      12 | -0.0900023   |    0.1398 | -0.6437 |  0.5197 |\n",
      "|  8 |      40 |  0.0488709   |    0.0908 |  0.5384 |  0.5903 |\n",
      "|  9 |      23 |  0.0751655   |    0.1555 |  0.4834 |  0.6288 |\n",
      "| 10 |      16 | -0.0573955   |    0.1211 | -0.474  |  0.6355 |\n",
      "| 11 |      15 | -0.0728995   |    0.1564 | -0.4661 |  0.6412 |\n",
      "| 12 |      64 | -0.0851245   |    0.1961 | -0.4342 |  0.6642 |\n",
      "| 13 |      57 | -0.062706    |    0.1464 | -0.4283 |  0.6684 |\n",
      "| 14 |      61 |  0.0678348   |    0.1624 |  0.4178 |  0.6761 |\n",
      "| 15 |       6 |  0.084468    |    0.2117 |  0.399  |  0.6899 |\n",
      "| 16 |       3 |  0.0720336   |    0.1885 |  0.3821 |  0.7024 |\n",
      "| 17 |      47 | -0.0777038   |    0.2108 | -0.3686 |  0.7124 |\n",
      "| 18 |      31 | -0.0114003   |    0.0312 | -0.3657 |  0.7146 |\n",
      "| 19 |      44 |  0.0264654   |    0.077  |  0.3437 |  0.7311 |\n",
      "| 20 |       1 |  0.0275627   |    0.093  |  0.2964 |  0.7669 |\n",
      "| 21 |      18 |  0.0423732   |    0.1497 |  0.2831 |  0.7771 |\n",
      "| 22 |      22 | -0.0228358   |    0.0883 | -0.2587 |  0.7959 |\n",
      "| 23 |      26 | -0.0310968   |    0.1345 | -0.2312 |  0.8171 |\n",
      "| 24 |      32 | -0.0146387   |    0.0668 | -0.219  |  0.8266 |\n",
      "| 25 |      29 | -0.0884865   |    0.4203 | -0.2105 |  0.8332 |\n",
      "| 26 |      55 |  0.0278817   |    0.154  |  0.181  |  0.8563 |\n",
      "| 27 |      13 | -0.0178489   |    0.1021 | -0.1749 |  0.8612 |\n",
      "| 28 |       5 |  0.0317378   |    0.1908 |  0.1664 |  0.8679 |\n",
      "| 29 |      62 |  0.0341809   |    0.2068 |  0.1653 |  0.8687 |\n",
      "| 30 |      46 | -0.0225991   |    0.1651 | -0.1369 |  0.8911 |\n",
      "| 31 |      35 |  0.0328181   |    0.2837 |  0.1157 |  0.9079 |\n",
      "| 32 |      43 |  0.0267772   |    0.274  |  0.0977 |  0.9222 |\n",
      "| 33 |      56 |  0.0178468   |    0.185  |  0.0965 |  0.9231 |\n",
      "| 34 |      27 | -0.0585343   |    0.6903 | -0.0848 |  0.9324 |\n",
      "| 35 |       2 | -0.011762    |    0.1429 | -0.0823 |  0.9344 |\n",
      "| 36 |      20 | -0.00685239  |    0.0909 | -0.0754 |  0.9399 |\n",
      "| 37 |      60 |  0.0109314   |    0.1613 |  0.0678 |  0.946  |\n",
      "| 38 |      48 |  0.0082649   |    0.1483 |  0.0557 |  0.9556 |\n",
      "| 39 |       9 | -0.00610208  |    0.136  | -0.0449 |  0.9642 |\n",
      "| 40 |      52 |  0.00574495  |    0.1314 |  0.0437 |  0.9651 |\n",
      "| 41 |       4 |  0.00367067  |    0.0934 |  0.0393 |  0.9686 |\n",
      "| 42 |       7 |  0.00686239  |    0.1753 |  0.0392 |  0.9688 |\n",
      "| 43 |      53 |  0.0049997   |    0.1691 |  0.0296 |  0.9764 |\n",
      "| 44 |      51 | -0.00420656  |    0.1471 | -0.0286 |  0.9772 |\n",
      "| 45 |      67 |  0.00302812  |    0.1092 |  0.0277 |  0.9779 |\n",
      "| 46 |      10 | -0.00297981  |    0.1109 | -0.0269 |  0.9786 |\n",
      "| 47 |       0 | -0.00380509  |    0.145  | -0.0262 |  0.9791 |\n",
      "| 48 |      39 | -0.00604358  |    0.2618 | -0.0231 |  0.9816 |\n",
      "| 49 |      14 | -0.00517293  |    0.2259 | -0.0229 |  0.9817 |\n",
      "| 50 |      54 | -0.00408896  |    0.1892 | -0.0216 |  0.9828 |\n",
      "| 51 |      28 | -0.00609337  |    0.3147 | -0.0194 |  0.9845 |\n",
      "| 52 |      65 |  0.00205215  |    0.1196 |  0.0172 |  0.9863 |\n",
      "| 53 |      50 |  0.00194124  |    0.1312 |  0.0148 |  0.9882 |\n",
      "| 54 |      33 |  0.00203045  |    0.1463 |  0.0139 |  0.9889 |\n",
      "| 55 |      38 |  0.00414837  |    0.3562 |  0.0116 |  0.9907 |\n",
      "| 56 |      36 | -0.0027318   |    0.2377 | -0.0115 |  0.9908 |\n",
      "| 57 |      45 |  0.00143787  |    0.1288 |  0.0112 |  0.9911 |\n",
      "| 58 |      11 |  0.00204853  |    0.1834 |  0.0112 |  0.9911 |\n",
      "| 59 |      37 |  0.00336658  |    0.3077 |  0.0109 |  0.9913 |\n",
      "| 60 |      41 |  0.00311592  |    0.2912 |  0.0107 |  0.9915 |\n",
      "| 61 |      58 |  0.000669267 |    0.0911 |  0.0073 |  0.9941 |\n",
      "| 62 |      63 | -0.000919644 |    0.207  | -0.0044 |  0.9965 |\n",
      "| 63 |      49 | -0.000380389 |    0.1592 | -0.0024 |  0.9981 |\n",
      "| 64 |      34 |  0.000679736 |    0.3213 |  0.0021 |  0.9983 |\n",
      "| 65 |      30 |  0.000147116 |    0.0825 |  0.0018 |  0.9986 |\n",
      "| 66 |      42 |  0.00048713  |    0.2845 |  0.0017 |  0.9986 |\n",
      "| 67 |      17 |  0.000363979 |    0.2419 |  0.0015 |  0.9988 |\n",
      "+----+---------+--------------+-----------+---------+---------+\n"
     ]
    }
   ],
   "source": [
    "logistic_pipeline = base_pipeline + [ #\n",
    "        ('iso_forest', FeatureTransformer(fnames=x.columns, n_neighbors=int(logistic_param['n_neighbors']))),\n",
    "        ('imputer', KNNImputer(missing_values=np.nan, n_neighbors=int(logistic_param['n_neighbors']))),\n",
    "]\n",
    "\n",
    "logistic_pipeline = Pipeline(logistic_pipeline)\n",
    "logistic_x = logistic_pipeline.fit_transform(x)\n",
    "logistic = logisticModel(l1=logistic_param['l1'], l2=logistic_param['l2'], w=0.75)\n",
    "\n",
    "res_dict = logistic.fit(logistic_x, y, verbose=True, wald=True)\n",
    "result = res_dict['result']\n",
    "loss_values = res_dict['loss']\n"
   ]
  },
  {
   "cell_type": "code",
   "execution_count": 10,
   "metadata": {},
   "outputs": [
    {
     "data": {
      "image/png": "[encoded data removed]",
      "text/plain": [
       "<Figure size 1000x600 with 1 Axes>"
      ]
     },
     "metadata": {},
     "output_type": "display_data"
    }
   ],
   "source": [
    "plt.figure(figsize=(10, 6))\n",
    "plt.plot(loss_values, marker='.', linestyle='-')\n",
    "plt.title('Logistic Loss Value During Optimization')\n",
    "plt.xlabel('Iteration')\n",
    "plt.ylabel('Loss Value')\n",
    "plt.grid()\n",
    "plt.show()"
   ]
  },
  {
   "cell_type": "markdown",
   "metadata": {},
   "source": [
    "## Wald test result and model interpretation"
   ]
  },
  {
   "cell_type": "code",
   "execution_count": 11,
   "metadata": {},
   "outputs": [
    {
     "data": {
      "text/html": [
       "<div>\n",
       "<style scoped>\n",
       "    .dataframe tbody tr th:only-of-type {\n",
       "        vertical-align: middle;\n",
       "    }\n",
       "\n",
       "    .dataframe tbody tr th {\n",
       "        vertical-align: top;\n",
       "    }\n",
       "\n",
       "    .dataframe thead th {\n",
       "        text-align: right;\n",
       "    }\n",
       "</style>\n",
       "<table border=\"1\" class=\"dataframe\">\n",
       "  <thead>\n",
       "    <tr style=\"text-align: right;\">\n",
       "      <th></th>\n",
       "      <th>feature</th>\n",
       "      <th>coef</th>\n",
       "      <th>std err</th>\n",
       "      <th>z</th>\n",
       "      <th>P&gt;|z|</th>\n",
       "    </tr>\n",
       "  </thead>\n",
       "  <tbody>\n",
       "    <tr>\n",
       "      <th>0</th>\n",
       "      <td>Oxygen saturation_min</td>\n",
       "      <td>-0.105109</td>\n",
       "      <td>0.0551</td>\n",
       "      <td>-1.9064</td>\n",
       "      <td>0.0566</td>\n",
       "    </tr>\n",
       "    <tr>\n",
       "      <th>1</th>\n",
       "      <td>is_outlier</td>\n",
       "      <td>-0.151197</td>\n",
       "      <td>0.0978</td>\n",
       "      <td>-1.5462</td>\n",
       "      <td>0.1221</td>\n",
       "    </tr>\n",
       "    <tr>\n",
       "      <th>2</th>\n",
       "      <td>Respiratory rate_mean</td>\n",
       "      <td>0.182200</td>\n",
       "      <td>0.1419</td>\n",
       "      <td>1.2836</td>\n",
       "      <td>0.1993</td>\n",
       "    </tr>\n",
       "    <tr>\n",
       "      <th>3</th>\n",
       "      <td>Temperature_mean</td>\n",
       "      <td>-0.145546</td>\n",
       "      <td>0.1300</td>\n",
       "      <td>-1.1199</td>\n",
       "      <td>0.2627</td>\n",
       "    </tr>\n",
       "    <tr>\n",
       "      <th>4</th>\n",
       "      <td>Temperature_min</td>\n",
       "      <td>-0.093339</td>\n",
       "      <td>0.0847</td>\n",
       "      <td>-1.1015</td>\n",
       "      <td>0.2707</td>\n",
       "    </tr>\n",
       "  </tbody>\n",
       "</table>\n",
       "</div>"
      ],
      "text/plain": [
       "                 feature      coef  std err       z   P>|z|\n",
       "0  Oxygen saturation_min -0.105109   0.0551 -1.9064  0.0566\n",
       "1             is_outlier -0.151197   0.0978 -1.5462  0.1221\n",
       "2  Respiratory rate_mean  0.182200   0.1419  1.2836  0.1993\n",
       "3       Temperature_mean -0.145546   0.1300 -1.1199  0.2627\n",
       "4        Temperature_min -0.093339   0.0847 -1.1015  0.2707"
      ]
     },
     "execution_count": 11,
     "metadata": {},
     "output_type": "execute_result"
    }
   ],
   "source": [
    "# iso_forest in pipeline will add a feature 'is_outlier', and last parameter in the model is the bias term\n",
    "fnames = x.columns.to_list()+['is_outlier']+['bias']\n",
    "# map the indices back to feature names\n",
    "index_to_feature = dict(zip(range(len(fnames)),fnames))\n",
    "wald_res = res_dict['wald_result']\n",
    "wald_res['index'] = wald_res['index'].replace(index_to_feature, inplace=False)\n",
    "wald_res.rename(columns={'index':'feature'}, inplace=True)\n",
    "# show top 5 important features, wald test result is sorted by p-value in acsending order\n",
    "wald_res.head(5)\n"
   ]
  },
  {
   "cell_type": "markdown",
   "metadata": {},
   "source": [
    "### Interpretation\n",
    "Positive coef -> higher feature value, higher mortality risk\n",
    "\n",
    "Negative coef -> higher feature value, lower mortality risk\n",
    "- Higher Oxygen saturation_min decrease mortality risk (or lower increase risk)\n",
    "- Inliniers (1 for inliner, -1 for outlier) lower mortality risk (outliers higher risk)\n",
    "- Higher Respiratory rate_mean increases mortality risk\n",
    "- Higher Temperature_mean decrease mortality risk (or lower increase risk)\n",
    "- Higher Temperature_min decrease mortality risk (or lower increase risk)\n",
    "\n",
    "Consistent with Probit model but with slightly different order of p-values\n",
    "(It is expected, since both are linear models with the same set of features, just different assumed error distributions)\n"
   ]
  },
  {
   "cell_type": "markdown",
   "metadata": {},
   "source": [
    "## Saving the model"
   ]
  },
  {
   "cell_type": "code",
   "execution_count": 12,
   "metadata": {},
   "outputs": [
    {
     "data": {
      "text/plain": [
       "['../others/logistic.pkl']"
      ]
     },
     "execution_count": 12,
     "metadata": {},
     "output_type": "execute_result"
    }
   ],
   "source": [
    "joblib.dump(logistic_pipeline, '../others/logistic_pipeline.pkl')\n",
    "joblib.dump(logistic, '../others/logistic.pkl')"
   ]
  },
  {
   "cell_type": "markdown",
   "metadata": {},
   "source": [
    "# Model evaluation"
   ]
  },
  {
   "cell_type": "markdown",
   "metadata": {},
   "source": [
    "We evaluate our models using 5-fold cross validation with best hyperparameters "
   ]
  },
  {
   "cell_type": "markdown",
   "metadata": {},
   "source": [
    "### Probit model\n",
    "For the sake of clarity, we load the data, hyperparameters and models again"
   ]
  },
  {
   "cell_type": "code",
   "execution_count": 13,
   "metadata": {},
   "outputs": [],
   "source": [
    "# load the data\n",
    "df = pd.read_csv(os.path.join(data_folder,'mimiciv_traindata.csv'))\n",
    "x = compute_features(df.drop('mortality',axis=1))\n",
    "y = df.mortality.values"
   ]
  },
  {
   "cell_type": "code",
   "execution_count": 14,
   "metadata": {},
   "outputs": [
    {
     "name": "stdout",
     "output_type": "stream",
     "text": [
      "{'l1': 0.006171888786369539, 'l2': 0.0405715442762844, 'n_neighbors': 11.767930181820343}\n"
     ]
    }
   ],
   "source": [
    "# load the best hyperparameters\n",
    "with open('../others/probit.json','r') as f:\n",
    "    probit_param = json.load(f)\n",
    "print(probit_param)"
   ]
  },
  {
   "cell_type": "code",
   "execution_count": 15,
   "metadata": {},
   "outputs": [],
   "source": [
    "# base pipeline is the common step for both models\n",
    "base_pipeline = [\n",
    "    ('scaler', QuantileTransformer(output_distribution='normal', ignore_implicit_zeros=False)),\n",
    "]"
   ]
  },
  {
   "cell_type": "code",
   "execution_count": 16,
   "metadata": {},
   "outputs": [],
   "source": [
    "# pipeline for probit model\n",
    "\n",
    "probit_pipeline = base_pipeline + [\n",
    "    ('iso_forest', FeatureTransformer(fnames=x.columns, n_neighbors=int(probit_param['n_neighbors']))),\n",
    "    ('imputer', KNNImputer(missing_values=np.nan, n_neighbors=int(probit_param['n_neighbors']))),\n",
    "    ('model',probitModel(l1=probit_param['l1'], l2=probit_param['l2'], w=0.75)),\n",
    "]"
   ]
  },
  {
   "cell_type": "code",
   "execution_count": 17,
   "metadata": {},
   "outputs": [
    {
     "name": "stdout",
     "output_type": "stream",
     "text": [
      "Fold 1 evaluation result:\n",
      "Accuracy: 0.66283\n",
      "Precision: 0.39706\n",
      "Recall: 0.66784\n",
      "F1 Score: 0.49802\n",
      "AUC score: 0.72400\n",
      "Optimal threshold is 0.49495, at F1 score of 0.50584\n",
      "\n",
      "Fold 2 evaluation result:\n",
      "Accuracy: 0.65221\n",
      "Precision: 0.38298\n",
      "Recall: 0.63604\n",
      "F1 Score: 0.47809\n",
      "AUC score: 0.67756\n",
      "Optimal threshold is 0.50505, at F1 score of 0.48043\n",
      "\n",
      "Fold 3 evaluation result:\n",
      "Accuracy: 0.64570\n",
      "Precision: 0.38037\n",
      "Recall: 0.65724\n",
      "F1 Score: 0.48187\n",
      "AUC score: 0.69389\n",
      "Optimal threshold is 0.49495, at F1 score of 0.48669\n",
      "\n",
      "Fold 4 evaluation result:\n",
      "Accuracy: 0.62445\n",
      "Precision: 0.35815\n",
      "Recall: 0.62898\n",
      "F1 Score: 0.45641\n",
      "AUC score: 0.66054\n",
      "Optimal threshold is 0.53535, at F1 score of 0.45640\n",
      "\n",
      "Fold 5 evaluation result:\n",
      "Accuracy: 0.63330\n",
      "Precision: 0.37030\n",
      "Recall: 0.66078\n",
      "F1 Score: 0.47462\n",
      "AUC score: 0.68702\n",
      "Optimal threshold is 0.52525, at F1 score of 0.49014\n",
      "\n",
      "Mean F1 score: 0.47780, std: 0.01337\n",
      "Mean AUC score: 0.68860, std: 0.02094\n",
      "Mean Precision score: 0.37777, std: 0.01301\n",
      "Mean Recall score: 0.65018, std: 0.01499\n",
      "Mean Accuracy score: 0.64370, std: 0.01357\n"
     ]
    }
   ],
   "source": [
    "# Perform 5-fold cross validation\n",
    "# The evaluation result will be saved in the 'probit' folder\n",
    "_ = cv(probit_pipeline, x.values, y, 5, random_state=SEED, verbose=True, path='../others/probit')"
   ]
  },
  {
   "cell_type": "markdown",
   "metadata": {},
   "source": [
    "### Logistic model\n",
    "We do the same thing for the logistic model"
   ]
  },
  {
   "cell_type": "code",
   "execution_count": 18,
   "metadata": {},
   "outputs": [
    {
     "name": "stdout",
     "output_type": "stream",
     "text": [
      "{'l1': 0.0027408409818461266, 'l2': 0.00904159656998016, 'n_neighbors': 14.699223795046494}\n"
     ]
    }
   ],
   "source": [
    "with open('../others/logistic.json','r') as f:\n",
    "    logistic_param = json.load(f)\n",
    "print(logistic_param)"
   ]
  },
  {
   "cell_type": "code",
   "execution_count": 19,
   "metadata": {},
   "outputs": [],
   "source": [
    "logistic_pipeline = base_pipeline + [\n",
    "    ('iso_forest', FeatureTransformer(fnames=x.columns, n_neighbors=int(logistic_param['n_neighbors']))),\n",
    "    ('imputer', KNNImputer(missing_values=np.nan, n_neighbors=int(logistic_param['n_neighbors']))),\n",
    "    ('model',probitModel(l1=logistic_param['l1'], l2=logistic_param['l2'], w=0.75)),\n",
    "]"
   ]
  },
  {
   "cell_type": "code",
   "execution_count": 20,
   "metadata": {},
   "outputs": [
    {
     "name": "stdout",
     "output_type": "stream",
     "text": [
      "Fold 1 evaluation result:\n",
      "Accuracy: 0.66726\n",
      "Precision: 0.39644\n",
      "Recall: 0.62898\n",
      "F1 Score: 0.48634\n",
      "AUC score: 0.72072\n",
      "Optimal threshold is 0.53535, at F1 score of 0.49371\n",
      "\n",
      "Fold 2 evaluation result:\n",
      "Accuracy: 0.66460\n",
      "Precision: 0.39041\n",
      "Recall: 0.60424\n",
      "F1 Score: 0.47434\n",
      "AUC score: 0.68270\n",
      "Optimal threshold is 0.52525, at F1 score of 0.48706\n",
      "\n",
      "Fold 3 evaluation result:\n",
      "Accuracy: 0.65899\n",
      "Precision: 0.38865\n",
      "Recall: 0.62898\n",
      "F1 Score: 0.48043\n",
      "AUC score: 0.68755\n",
      "Optimal threshold is 0.49495, at F1 score of 0.48549\n",
      "\n",
      "Fold 4 evaluation result:\n",
      "Accuracy: 0.62622\n",
      "Precision: 0.35551\n",
      "Recall: 0.60424\n",
      "F1 Score: 0.44764\n",
      "AUC score: 0.66619\n",
      "Optimal threshold is 0.48485, at F1 score of 0.45658\n",
      "\n",
      "Fold 5 evaluation result:\n",
      "Accuracy: 0.65810\n",
      "Precision: 0.39248\n",
      "Recall: 0.66431\n",
      "F1 Score: 0.49344\n",
      "AUC score: 0.69870\n",
      "Optimal threshold is 0.50505, at F1 score of 0.49531\n",
      "\n",
      "Mean F1 score: 0.47644, std: 0.01573\n",
      "Mean AUC score: 0.69117, std: 0.01810\n",
      "Mean Precision score: 0.38470, std: 0.01482\n",
      "Mean Recall score: 0.62615, std: 0.02206\n",
      "Mean Accuracy score: 0.65503, std: 0.01481\n"
     ]
    }
   ],
   "source": [
    "_ = cv(logistic_pipeline, x.values, y, 5, random_state=SEED, verbose=True, path='../others/logistic')"
   ]
  }
 ],
 "metadata": {
  "kernelspec": {
   "display_name": "Python 3",
   "language": "python",
   "name": "python3"
  },
  "language_info": {
   "codemirror_mode": {
    "name": "ipython",
    "version": 3
   },
   "file_extension": ".py",
   "mimetype": "text/x-python",
   "name": "python",
   "nbconvert_exporter": "python",
   "pygments_lexer": "ipython3",
   "version": "3.10.15"
  }
 },
 "nbformat": 4,
 "nbformat_minor": 4
}
