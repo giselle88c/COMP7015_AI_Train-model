{
 "cells": [
  {
   "cell_type": "code",
   "execution_count": 1,
   "metadata": {
    "colab": {
     "base_uri": "https://localhost:8080/"
    },
    "executionInfo": {
     "elapsed": 37471,
     "status": "ok",
     "timestamp": 1731937801925,
     "user": {
      "displayName": "Keith Chan",
      "userId": "11054371261221442272"
     },
     "user_tz": -480
    },
    "id": "fk9sDA2KiFBF",
    "outputId": "a2ab0556-596b-4369-fe67-172e49c52438"
   },
   "outputs": [],
   "source": [
    "import pdb\n",
    "import pandas as pd\n",
    "import os\n",
    "from matplotlib import pyplot as plt\n",
    "import seaborn as sns\n",
    "\n",
    "from sklearn.model_selection import train_test_split, GridSearchCV\n",
    "from sklearn.metrics import accuracy_score, classification_report, confusion_matrix, roc_auc_score, silhouette_score\n",
    "from sklearn.ensemble import RandomForestClassifier, IsolationForest\n",
    "from sklearn.preprocessing import StandardScaler\n",
    "from sklearn.decomposition import PCA\n",
    "from scipy.stats import spearmanr\n",
    "import numpy as np # Data Imputation\n",
    "from sklearn.impute import KNNImputer # KNN Imputation\n",
    "from imblearn.over_sampling import SMOTE # Data Imputation\n",
    "from collections import Counter # Data Imputation\n",
    "\n",
    "try:\n",
    "  from google.colab import drive\n",
    "  drive.mount('/content/drive')\n",
    "  file_path = '/content/drive/My Drive/COMP7015 AI Group Project/mimiciv_traindata.csv'\n",
    "except:\n",
    "  file_path = os.path.join('data', 'mimiciv_traindata.csv')"
   ]
  },
  {
   "cell_type": "code",
   "execution_count": 2,
   "metadata": {
    "colab": {
     "base_uri": "https://localhost:8080/"
    },
    "executionInfo": {
     "elapsed": 1196,
     "status": "ok",
     "timestamp": 1731937803119,
     "user": {
      "displayName": "Keith Chan",
      "userId": "11054371261221442272"
     },
     "user_tz": -480
    },
    "id": "Pp8UcEhWPodi",
    "outputId": "8c9698a3-169c-458a-ff26-88ba769647c4"
   },
   "outputs": [
    {
     "name": "stdout",
     "output_type": "stream",
     "text": [
      "-------------------------------------------------------------------\n",
      "Our data types are:\n",
      "\n",
      "Fraction inspired oxygen_mean    float64\n",
      "Fraction inspired oxygen_min     float64\n",
      "Fraction inspired oxygen_max     float64\n",
      "Glucose_mean                     float64\n",
      "Glucose_min                      float64\n",
      "Glucose_max                      float64\n",
      "Heart Rate_mean                  float64\n",
      "Heart Rate_min                   float64\n",
      "Heart Rate_max                   float64\n",
      "Mean blood pressure_mean         float64\n",
      "Mean blood pressure_min          float64\n",
      "Mean blood pressure_max          float64\n",
      "Diastolic blood pressure_mean    float64\n",
      "Diastolic blood pressure_min     float64\n",
      "Diastolic blood pressure_max     float64\n",
      "Systolic blood pressure_mean     float64\n",
      "Systolic blood pressure_min      float64\n",
      "Systolic blood pressure_max      float64\n",
      "Oxygen saturation_mean           float64\n",
      "Oxygen saturation_min            float64\n",
      "Oxygen saturation_max            float64\n",
      "Respiratory rate_mean            float64\n",
      "Respiratory rate_min             float64\n",
      "Respiratory rate_max             float64\n",
      "Temperature_mean                 float64\n",
      "Temperature_min                  float64\n",
      "Temperature_max                  float64\n",
      "Weight_mean                      float64\n",
      "Weight_min                       float64\n",
      "Weight_max                       float64\n",
      "pH_mean                          float64\n",
      "pH_min                           float64\n",
      "pH_max                           float64\n",
      "mortality                        float64\n",
      "dtype: object\n",
      "\n",
      "-------------------------------------------------------------------\n",
      "Contains NaN Values:  True\n",
      "\n",
      "-------------------------------------------------------------------\n",
      "NaN values per column: \n",
      "\n",
      "Fraction inspired oxygen_mean    1338\n",
      "Fraction inspired oxygen_min     1338\n",
      "Fraction inspired oxygen_max     1338\n",
      "Glucose_mean                        2\n",
      "Glucose_min                         2\n",
      "Glucose_max                         2\n",
      "Heart Rate_mean                     3\n",
      "Heart Rate_min                      3\n",
      "Heart Rate_max                      3\n",
      "Mean blood pressure_mean            3\n",
      "Mean blood pressure_min             3\n",
      "Mean blood pressure_max             3\n",
      "Diastolic blood pressure_mean       3\n",
      "Diastolic blood pressure_min        3\n",
      "Diastolic blood pressure_max        3\n",
      "Systolic blood pressure_mean        3\n",
      "Systolic blood pressure_min         3\n",
      "Systolic blood pressure_max         3\n",
      "Oxygen saturation_mean              3\n",
      "Oxygen saturation_min               3\n",
      "Oxygen saturation_max               3\n",
      "Respiratory rate_mean               5\n",
      "Respiratory rate_min                5\n",
      "Respiratory rate_max                5\n",
      "Temperature_mean                  148\n",
      "Temperature_min                   148\n",
      "Temperature_max                   148\n",
      "Weight_mean                       562\n",
      "Weight_min                        562\n",
      "Weight_max                        562\n",
      "pH_mean                           660\n",
      "pH_min                            660\n",
      "pH_max                            660\n",
      "mortality                           0\n",
      "dtype: int64\n",
      "\n",
      "-------------------------------------------------------------------\n",
      "NaN Matrix: \n",
      "\n",
      "      Fraction inspired oxygen_mean  Fraction inspired oxygen_min  \\\n",
      "0                             False                         False   \n",
      "1                             False                         False   \n",
      "2                             False                         False   \n",
      "3                             False                         False   \n",
      "4                             False                         False   \n",
      "...                             ...                           ...   \n",
      "5642                          False                         False   \n",
      "5643                          False                         False   \n",
      "5644                           True                          True   \n",
      "5645                          False                         False   \n",
      "5646                          False                         False   \n",
      "\n",
      "      Fraction inspired oxygen_max  Glucose_mean  Glucose_min  Glucose_max  \\\n",
      "0                            False         False        False        False   \n",
      "1                            False         False        False        False   \n",
      "2                            False         False        False        False   \n",
      "3                            False         False        False        False   \n",
      "4                            False         False        False        False   \n",
      "...                            ...           ...          ...          ...   \n",
      "5642                         False         False        False        False   \n",
      "5643                         False         False        False        False   \n",
      "5644                          True         False        False        False   \n",
      "5645                         False         False        False        False   \n",
      "5646                         False         False        False        False   \n",
      "\n",
      "      Heart Rate_mean  Heart Rate_min  Heart Rate_max  \\\n",
      "0               False           False           False   \n",
      "1               False           False           False   \n",
      "2               False           False           False   \n",
      "3               False           False           False   \n",
      "4               False           False           False   \n",
      "...               ...             ...             ...   \n",
      "5642            False           False           False   \n",
      "5643            False           False           False   \n",
      "5644            False           False           False   \n",
      "5645            False           False           False   \n",
      "5646            False           False           False   \n",
      "\n",
      "      Mean blood pressure_mean  ...  Temperature_mean  Temperature_min  \\\n",
      "0                        False  ...             False            False   \n",
      "1                        False  ...             False            False   \n",
      "2                        False  ...             False            False   \n",
      "3                        False  ...              True             True   \n",
      "4                        False  ...             False            False   \n",
      "...                        ...  ...               ...              ...   \n",
      "5642                     False  ...             False            False   \n",
      "5643                     False  ...             False            False   \n",
      "5644                     False  ...             False            False   \n",
      "5645                     False  ...             False            False   \n",
      "5646                     False  ...             False            False   \n",
      "\n",
      "      Temperature_max  Weight_mean  Weight_min  Weight_max  pH_mean  pH_min  \\\n",
      "0               False        False       False       False    False   False   \n",
      "1               False        False       False       False    False   False   \n",
      "2               False        False       False       False    False   False   \n",
      "3                True        False       False       False    False   False   \n",
      "4               False         True        True        True    False   False   \n",
      "...               ...          ...         ...         ...      ...     ...   \n",
      "5642            False        False       False       False    False   False   \n",
      "5643            False        False       False       False    False   False   \n",
      "5644            False        False       False       False     True    True   \n",
      "5645            False        False       False       False    False   False   \n",
      "5646            False        False       False       False    False   False   \n",
      "\n",
      "      pH_max  mortality  \n",
      "0      False      False  \n",
      "1      False      False  \n",
      "2      False      False  \n",
      "3      False      False  \n",
      "4      False      False  \n",
      "...      ...        ...  \n",
      "5642   False      False  \n",
      "5643   False      False  \n",
      "5644    True      False  \n",
      "5645   False      False  \n",
      "5646   False      False  \n",
      "\n",
      "[5647 rows x 34 columns]\n",
      "\n",
      "-------------------------------------------------------------------\n",
      "Contains duplicate rows:  False\n",
      "\n",
      "-------------------------------------------------------------------\n",
      "Summary Statistics: \n",
      "\n",
      "       Fraction inspired oxygen_mean  Fraction inspired oxygen_min  \\\n",
      "count                    4309.000000                   4309.000000   \n",
      "mean                        0.526736                      0.411402   \n",
      "std                         0.137393                      0.120820   \n",
      "min                         0.040000                      0.000000   \n",
      "25%                         0.425000                      0.350000   \n",
      "50%                         0.500000                      0.400000   \n",
      "75%                         0.600000                      0.500000   \n",
      "max                         1.000000                      1.000000   \n",
      "\n",
      "       Fraction inspired oxygen_max   Glucose_mean  Glucose_min  \\\n",
      "count                   4309.000000    5645.000000  5645.000000   \n",
      "mean                       0.781469     402.598721    97.459167   \n",
      "std                        0.266596    7505.720813    29.884119   \n",
      "min                        0.040000      64.857143     0.000000   \n",
      "25%                        0.500000     113.600000    79.000000   \n",
      "50%                        1.000000     132.222222    94.000000   \n",
      "75%                        1.000000     160.625000   112.000000   \n",
      "max                        7.000000  333384.333333   292.000000   \n",
      "\n",
      "         Glucose_max  Heart Rate_mean  Heart Rate_min  Heart Rate_max  \\\n",
      "count    5645.000000      5644.000000     5644.000000     5644.000000   \n",
      "mean     1806.879894        87.729480       68.979093      139.998848   \n",
      "std     39892.430751        25.713017       14.641232     2023.796421   \n",
      "min        76.000000        40.883117       30.000000       52.000000   \n",
      "25%       144.000000        76.640927       59.000000       97.000000   \n",
      "50%       181.000000        86.419091       68.000000      111.000000   \n",
      "75%       241.000000        97.717736       78.000000      126.000000   \n",
      "max    999999.000000      1645.850000      128.000000   152143.000000   \n",
      "\n",
      "       Mean blood pressure_mean  ...  Temperature_mean  Temperature_min  \\\n",
      "count               5644.000000  ...       5499.000000      5499.000000   \n",
      "mean                  78.521493  ...         36.963855        36.133663   \n",
      "std                   59.569397  ...          1.162048         0.809425   \n",
      "min                   48.076923  ...         31.651852        27.333333   \n",
      "25%                   69.856399  ...         36.644737        35.833333   \n",
      "50%                   75.301209  ...         36.901709        36.333333   \n",
      "75%                   82.263834  ...         37.246032        36.555556   \n",
      "max                 2485.714286  ...         86.877778        38.833333   \n",
      "\n",
      "       Temperature_max  Weight_mean   Weight_min   Weight_max        pH_mean  \\\n",
      "count      5499.000000  5085.000000  5085.000000  5085.000000    4987.000000   \n",
      "mean         38.120876    83.762796    81.925727    85.694181      65.770372   \n",
      "std          13.360879    25.324031    24.756871    26.665773    2978.000652   \n",
      "min          31.800000    25.314498    23.632143    25.500000       6.000000   \n",
      "25%          37.166667    66.800000    65.300000    68.265596       7.270871   \n",
      "50%          37.611111    79.832192    78.100000    81.600000       7.350000   \n",
      "75%          38.222222    96.454559    94.483214    98.800000       7.402000   \n",
      "max         536.111111   396.239898   276.418965   545.000000  200005.526000   \n",
      "\n",
      "            pH_min         pH_max    mortality  \n",
      "count  4987.000000    4987.000000  5647.000000  \n",
      "mean      7.055462     608.954728     0.250576  \n",
      "std       0.491667   24521.677519     0.433383  \n",
      "min       6.000000       6.000000     0.000000  \n",
      "25%       7.050000       7.380000     0.000000  \n",
      "50%       7.280000       7.430000     0.000000  \n",
      "75%       7.360000       7.470000     1.000000  \n",
      "max       8.000000  999999.000000     1.000000  \n",
      "\n",
      "[8 rows x 34 columns]\n",
      "\n",
      "-------------------------------------------------------------------\n",
      "Shape of our DataFrame: (5647, 34)\n"
     ]
    }
   ],
   "source": [
    "df = pd.read_csv(file_path)\n",
    "\n",
    "# Check datatypes of our dataframe\n",
    "print ('-------------------------------------------------------------------')\n",
    "print('Our data types are:\\n')\n",
    "print(df.dtypes)\n",
    "\n",
    "# Check NaN values of our dataframe\n",
    "print ('\\n-------------------------------------------------------------------')\n",
    "print('Contains NaN Values: ', df.isna().any().any())\n",
    "\n",
    "# Check NaN values in each column\n",
    "print ('\\n-------------------------------------------------------------------')\n",
    "print('NaN values per column: \\n')\n",
    "print(df.isna().sum())\n",
    "\n",
    "# Check NaN Matrix\n",
    "print ('\\n-------------------------------------------------------------------')\n",
    "print('NaN Matrix: \\n')\n",
    "print(df.isna())\n",
    "\n",
    "# Check duplicate rows\n",
    "print ('\\n-------------------------------------------------------------------')\n",
    "print('Contains duplicate rows: ', df.duplicated().any())\n",
    "\n",
    "# Check summary statistics\n",
    "print ('\\n-------------------------------------------------------------------')\n",
    "print('Summary Statistics: \\n')\n",
    "print(df.describe())\n",
    "\n",
    "# Check overall shape\n",
    "print ('\\n-------------------------------------------------------------------')\n",
    "print('Shape of our DataFrame:' , df.shape)"
   ]
  },
  {
   "cell_type": "code",
   "execution_count": 3,
   "metadata": {
    "executionInfo": {
     "elapsed": 3732,
     "status": "ok",
     "timestamp": 1731937806849,
     "user": {
      "displayName": "Keith Chan",
      "userId": "11054371261221442272"
     },
     "user_tz": -480
    },
    "id": "iy-SuYj2Podn"
   },
   "outputs": [],
   "source": [
    "# KNN Imputation (Imputation for Missing Value)\n",
    "knn_imputer = KNNImputer(n_neighbors=3)\n",
    "df_imputed = knn_imputer.fit_transform(df)\n",
    "\n",
    "# Convert the result back to a DataFrame\n",
    "df_imputed = pd.DataFrame(df_imputed, columns=df.columns)\n",
    "\n",
    "# Calculate Range\n",
    "df_imputed['Fraction inspired oxygen_range'] =  df_imputed['Fraction inspired oxygen_max'] -  df_imputed['Fraction inspired oxygen_min']\n",
    "df_imputed['Glucose_range'] =  df_imputed['Glucose_max'] -  df_imputed['Glucose_min']\n",
    "df_imputed['Heart Rate_range'] =  df_imputed['Heart Rate_max'] -  df_imputed['Heart Rate_min']\n",
    "df_imputed['Mean blood pressure_range'] =  df_imputed['Mean blood pressure_max'] -  df_imputed['Mean blood pressure_min']\n",
    "df_imputed['Diastolic blood pressure_range'] =  df_imputed['Diastolic blood pressure_max'] -  df_imputed['Diastolic blood pressure_min']\n",
    "df_imputed['Systolic blood pressure_range'] =  df_imputed['Systolic blood pressure_max'] -  df_imputed['Systolic blood pressure_min']\n",
    "df_imputed['Oxygen saturation_range'] =  df_imputed['Oxygen saturation_max'] -  df_imputed['Oxygen saturation_min']\n",
    "df_imputed['Respiratory rate_range'] =  df_imputed['Respiratory rate_max'] -  df_imputed['Respiratory rate_min']\n",
    "df_imputed['Temperature_range'] =  df_imputed['Temperature_max'] -  df_imputed['Temperature_min']\n",
    "df_imputed['Weight_range'] =  df_imputed['Weight_max'] -  df_imputed['Weight_min']\n",
    "df_imputed['pH_range'] =  df_imputed['pH_max'] -  df_imputed['pH_min']\n",
    "\n",
    "# Create Ratios\n",
    "df_imputed['Fraction inspired oxygen_min_to_mean'] = df_imputed['Fraction inspired oxygen_min'] / df_imputed['Fraction inspired oxygen_mean']\n",
    "df_imputed['Fraction inspired oxygen_max_to_mean'] = df_imputed['Fraction inspired oxygen_max'] / df_imputed['Fraction inspired oxygen_mean']\n",
    "df_imputed['Glucose_min_to_mean'] = df_imputed['Glucose_min'] / df_imputed['Glucose_mean']\n",
    "df_imputed['Glucose_max_to_mean'] = df_imputed['Glucose_max'] / df_imputed['Glucose_mean']\n",
    "df_imputed['Heart Rate_min_to_mean'] = df_imputed['Heart Rate_min'] / df_imputed['Heart Rate_mean']\n",
    "df_imputed['Heart Rate_max_to_mean'] = df_imputed['Heart Rate_max'] / df_imputed['Heart Rate_mean']\n",
    "df_imputed['Mean blood pressure_min_to_mean'] = df_imputed['Mean blood pressure_min'] / df_imputed['Mean blood pressure_mean']\n",
    "df_imputed['Mean blood pressure_max_to_mean'] = df_imputed['Mean blood pressure_max'] / df_imputed['Mean blood pressure_mean']\n",
    "df_imputed['Diastolic blood pressure_min_to_mean'] = df_imputed['Diastolic blood pressure_min'] / df_imputed['Diastolic blood pressure_mean']\n",
    "df_imputed['Diastolic blood pressure_max_to_mean'] = df_imputed['Diastolic blood pressure_max'] / df_imputed['Diastolic blood pressure_mean']\n",
    "df_imputed['Systolic blood pressure_min_to_mean'] = df_imputed['Systolic blood pressure_min'] / df_imputed['Systolic blood pressure_mean']\n",
    "df_imputed['Systolic blood pressure_max_to_mean'] = df_imputed['Systolic blood pressure_max'] / df_imputed['Systolic blood pressure_mean']\n",
    "df_imputed['Oxygen saturation_min_to_mean'] = df_imputed['Oxygen saturation_min'] / df_imputed['Oxygen saturation_mean']\n",
    "df_imputed['Oxygen saturation_max_to_mean'] = df_imputed['Oxygen saturation_max'] / df_imputed['Oxygen saturation_mean']\n",
    "df_imputed['Respiratory rate_min_to_mean'] = df_imputed['Respiratory rate_min'] / df_imputed['Respiratory rate_mean']\n",
    "df_imputed['Respiratory rate_max_to_mean'] = df_imputed['Respiratory rate_max'] / df_imputed['Respiratory rate_mean']\n",
    "df_imputed['Temperature_min_to_mean'] = df_imputed['Temperature_min'] / df_imputed['Temperature_mean']\n",
    "df_imputed['Temperature_max_to_mean'] = df_imputed['Temperature_max'] / df_imputed['Temperature_mean']\n",
    "df_imputed['Weight_min_to_mean'] = df_imputed['Weight_min'] / df_imputed['Weight_mean']\n",
    "df_imputed['Weight_max_to_mean'] = df_imputed['Weight_max'] / df_imputed['Weight_mean']\n",
    "df_imputed['pH_min_to_mean'] = df_imputed['pH_min'] / df_imputed['pH_mean']\n",
    "df_imputed['pH_max_to_mean'] = df_imputed['pH_max'] / df_imputed['pH_mean']"
   ]
  },
  {
   "cell_type": "code",
   "execution_count": 4,
   "metadata": {
    "colab": {
     "base_uri": "https://localhost:8080/"
    },
    "executionInfo": {
     "elapsed": 6,
     "status": "ok",
     "timestamp": 1731937806849,
     "user": {
      "displayName": "Keith Chan",
      "userId": "11054371261221442272"
     },
     "user_tz": -480
    },
    "id": "roqt95s5Podq",
    "outputId": "4576ac6e-fd95-4885-ae80-5ce881cd987b"
   },
   "outputs": [
    {
     "name": "stdout",
     "output_type": "stream",
     "text": [
      "-------------------------------------------------------------------\n",
      "The shape of X after adding new features is : (5647, 66)\n",
      "\n",
      "-------------------------------------------------------------------\n",
      "The shape of y is : (5647, 1)\n"
     ]
    }
   ],
   "source": [
    "# Features & Target\n",
    "X = df_imputed.drop(columns='mortality')\n",
    "y = df_imputed['mortality']\n",
    "\n",
    "print ('-------------------------------------------------------------------')\n",
    "print(f'The shape of X after adding new features is : {pd.DataFrame(X).shape}')\n",
    "print ('\\n-------------------------------------------------------------------')\n",
    "print(f'The shape of y is : {pd.DataFrame(y).shape}')"
   ]
  },
  {
   "cell_type": "code",
   "execution_count": 5,
   "metadata": {
    "colab": {
     "base_uri": "https://localhost:8080/"
    },
    "executionInfo": {
     "elapsed": 282,
     "status": "ok",
     "timestamp": 1731938572068,
     "user": {
      "displayName": "Keith Chan",
      "userId": "11054371261221442272"
     },
     "user_tz": -480
    },
    "id": "H4YeTKUelPKF",
    "outputId": "dfeb68e7-1819-43e7-f9be-4d3559b75edb"
   },
   "outputs": [
    {
     "name": "stdout",
     "output_type": "stream",
     "text": [
      "   Fraction inspired oxygen_mean  Fraction inspired oxygen_min  \\\n",
      "0                      -0.204660                     -0.031369   \n",
      "1                       0.776528                      1.077446   \n",
      "2                      -0.237938                     -0.031369   \n",
      "3                      -1.184447                     -0.031369   \n",
      "4                       0.527858                     -0.031369   \n",
      "\n",
      "   Fraction inspired oxygen_max  Glucose_mean  Glucose_min  Glucose_max  \\\n",
      "0                     -0.499230      0.572091    -1.727466     0.969427   \n",
      "1                      0.797044     -0.140823    -0.411534    -0.064027   \n",
      "2                     -0.025094      0.373968     0.797044    -0.016310   \n",
      "3                     -1.625274     -1.206740    -0.766391    -0.476619   \n",
      "4                      0.797044      0.174005     0.797044    -0.457033   \n",
      "\n",
      "   Heart Rate_mean  Heart Rate_min  Heart Rate_max  Mean blood pressure_mean  \\\n",
      "0        -2.677722       -2.542349       -0.907080                  1.071243   \n",
      "1        -0.972737       -0.759677       -0.292676                 -0.353951   \n",
      "2         1.242061        1.733071        0.304482                  1.020075   \n",
      "3        -2.310907       -1.593219       -2.747453                 -0.689478   \n",
      "4        -0.153859       -0.271787        0.130848                 -0.562305   \n",
      "\n",
      "   ...  Oxygen saturation_min_to_mean  Oxygen saturation_max_to_mean  \\\n",
      "0  ...                       2.073702                      -0.333865   \n",
      "1  ...                       0.108355                      -0.847448   \n",
      "2  ...                       0.919287                      -1.913790   \n",
      "3  ...                      -1.652199                      -0.926176   \n",
      "4  ...                      -1.106897                       0.267884   \n",
      "\n",
      "   Respiratory rate_min_to_mean  Respiratory rate_max_to_mean  \\\n",
      "0                     -5.199338                     -1.716659   \n",
      "1                     -5.199338                      0.083317   \n",
      "2                      0.103664                      1.028449   \n",
      "3                     -0.791423                      1.201202   \n",
      "4                     -0.945074                     -0.527050   \n",
      "\n",
      "   Temperature_min_to_mean  Temperature_max_to_mean  Weight_min_to_mean  \\\n",
      "0                -0.898006                 0.096802            5.199338   \n",
      "1                 0.722673                -1.359516           -0.346841   \n",
      "2                -0.104102                -0.202362            5.199338   \n",
      "3                -1.922610                 0.639354           -1.002225   \n",
      "4                -1.246556                 1.326546           -0.322268   \n",
      "\n",
      "   Weight_max_to_mean  pH_min_to_mean  pH_max_to_mean  \n",
      "0           -5.199338       -0.489687        0.080124  \n",
      "1            0.463240        0.465634       -0.369279  \n",
      "2           -5.199338       -0.119350        0.166739  \n",
      "3            1.320196       -1.665941        1.010279  \n",
      "4            0.294262       -0.307110       -0.307101  \n",
      "\n",
      "[5 rows x 66 columns]\n"
     ]
    }
   ],
   "source": [
    "from sklearn.preprocessing import QuantileTransformer\n",
    "\n",
    "# Quantile Transformer\n",
    "quantile_transformer = QuantileTransformer(output_distribution='normal')\n",
    "X_transformed = quantile_transformer.fit_transform(X)\n",
    "X_transformed_df = pd.DataFrame(X_transformed, columns=X.columns)\n",
    "print(X_transformed_df.head())"
   ]
  },
  {
   "cell_type": "code",
   "execution_count": 6,
   "metadata": {
    "colab": {
     "base_uri": "https://localhost:8080/",
     "height": 1000
    },
    "executionInfo": {
     "elapsed": 1272,
     "status": "ok",
     "timestamp": 1731937808116,
     "user": {
      "displayName": "Keith Chan",
      "userId": "11054371261221442272"
     },
     "user_tz": -480
    },
    "id": "BNlqXzD6Podt",
    "outputId": "fc644290-f2bf-4194-9862-db4bb4f5e36e"
   },
   "outputs": [
    {
     "name": "stdout",
     "output_type": "stream",
     "text": [
      "-------------------------------------------------------------------\n"
     ]
    },
    {
     "data": {
      "image/png": "[encoded data removed]",
      "text/plain": [
       "<Figure size 1000x600 with 1 Axes>"
      ]
     },
     "metadata": {},
     "output_type": "display_data"
    },
    {
     "name": "stdout",
     "output_type": "stream",
     "text": [
      "\n",
      "-------------------------------------------------------------------\n",
      "DataFrame with selected principal components:\n",
      "           PC1       PC2       PC3       PC4       PC5       PC6       PC7  \\\n",
      "0    -4.967252  5.354394 -5.784089  3.522286  1.571912  2.157809  2.985681   \n",
      "1     4.357094  1.032031 -4.906443  2.307755 -4.821993 -0.407943 -0.279079   \n",
      "2    -6.203144  1.811310  0.190819 -0.163941  0.182027  4.106447  1.183270   \n",
      "3     4.707558  1.165885  5.653723  8.036606 -2.315490 -3.552379 -1.018059   \n",
      "4     3.807659  1.891232 -2.081095 -1.504289  5.841434  2.056760 -0.101871   \n",
      "...        ...       ...       ...       ...       ...       ...       ...   \n",
      "5642 -7.069669 -0.242895  5.952894  6.871369 -0.206288 -1.758264 -0.690644   \n",
      "5643 -5.760143  4.264212  4.346928  0.350837 -2.383033 -1.073370 -0.084207   \n",
      "5644 -6.053180  3.432545  2.109824 -0.149975  1.475653  4.761402  2.851251   \n",
      "5645  3.370121  1.558994  2.112948 -1.003855  2.288318  3.184215 -0.035816   \n",
      "5646  0.411824 -9.958078  1.393649  6.873549  2.641568 -1.361593 -2.157780   \n",
      "\n",
      "           PC8       PC9      PC10  ...      PC15      PC16      PC17  \\\n",
      "0    -0.999627 -0.323765  2.907040  ...  0.152794  0.775780 -0.058748   \n",
      "1     0.368757 -1.900044  0.972450  ... -0.437494  0.184312 -0.747064   \n",
      "2     0.060986  0.022774 -0.787751  ...  0.239379 -0.575738 -0.200454   \n",
      "3    -2.352398  1.056711  0.647329  ...  1.699348  2.827269 -0.911907   \n",
      "4     0.762830  0.297332 -1.122449  ...  2.060944  1.505844  1.853441   \n",
      "...        ...       ...       ...  ...       ...       ...       ...   \n",
      "5642 -0.223611  0.797488 -4.985660  ... -1.013809 -0.456107 -0.695746   \n",
      "5643 -3.429162 -0.762881  0.424731  ...  0.027812 -0.999905 -0.721586   \n",
      "5644 -0.532514  0.647042  2.886269  ...  1.280938 -0.759198  1.839104   \n",
      "5645  0.271067 -0.241176  0.839222  ...  1.176165  0.333731  0.413792   \n",
      "5646 -0.335608  2.340387 -1.188326  ... -0.778433 -2.088571  0.245729   \n",
      "\n",
      "          PC18      PC19      PC20      PC21      PC22      PC23  mortality  \n",
      "0     0.595721 -1.541686  3.401861  1.429873 -0.199267 -3.021521        1.0  \n",
      "1     0.995897  1.079463  0.282186  0.917213  0.059483  0.332886        0.0  \n",
      "2     0.384994  2.576744 -1.548843 -0.483476  0.119849  0.400772        0.0  \n",
      "3    -2.143000  1.206969 -0.991401  0.702771  0.407044  0.683297        1.0  \n",
      "4    -6.336297  4.357907  3.630935 -1.550694  1.621954  0.578692        1.0  \n",
      "...        ...       ...       ...       ...       ...       ...        ...  \n",
      "5642 -3.023585  0.581855  1.144835 -1.003664 -0.709535  0.017813        1.0  \n",
      "5643 -0.717934  0.160304  1.467577  0.849596 -0.580935  1.106068        0.0  \n",
      "5644 -0.264039 -0.636724  0.990505  0.397876  1.623078 -0.291720        0.0  \n",
      "5645  0.799521 -0.822175  0.807423  0.783158  0.129949  0.111442        1.0  \n",
      "5646  1.208075 -1.048508  0.083092 -0.315674 -1.825296 -0.781033        0.0  \n",
      "\n",
      "[5647 rows x 24 columns]\n"
     ]
    }
   ],
   "source": [
    "# Apply PCA\n",
    "pca = PCA()\n",
    "X_pca= pca.fit_transform(X_transformed)\n",
    "\n",
    "# Explained variance ratio\n",
    "explained_variance = pca.explained_variance_ratio_\n",
    "\n",
    "# Plot explained variance to decide number of components\n",
    "print ('-------------------------------------------------------------------')\n",
    "plt.figure(figsize=(10,6))\n",
    "plt.plot(range(1,len(explained_variance) + 1), explained_variance, marker='o')\n",
    "plt.title('Explained Variance by Principal Components')\n",
    "plt.xlabel('Number of Components')\n",
    "plt.ylabel('Explained Variance Ratio')\n",
    "plt.xticks(range(1, len(explained_variance) + 1, 5))\n",
    "plt.grid()\n",
    "plt.show()\n",
    "\n",
    "# Choose the number of components\n",
    "n_components = 0.95\n",
    "cumulative_variance = np.cumsum(explained_variance)\n",
    "n_components_selected = np.argmax(cumulative_variance >= n_components) + 1\n",
    "\n",
    "# Transform the dataset to the selected number of components\n",
    "pca = PCA(n_components = n_components_selected)\n",
    "X_pca_selected = pca.fit_transform(X_transformed)\n",
    "\n",
    "# Create a DataFrame with the selected principal components\n",
    "columns = [f'PC{i+1}' for i in range(n_components_selected)]\n",
    "df_pca = pd.DataFrame(data = X_pca_selected, columns=columns)\n",
    "\n",
    "# Concatenate with the target variable\n",
    "df_after_pca = pd.concat([df_pca, y.reset_index(drop=True)], axis=1)\n",
    "\n",
    "# Print the resulting DataFrame\n",
    "print ('\\n-------------------------------------------------------------------')\n",
    "print('DataFrame with selected principal components:')\n",
    "print(df_after_pca)\n",
    "\n",
    "# Features & Target\n",
    "X = df_after_pca.drop(columns='mortality')\n",
    "y = df_after_pca['mortality']"
   ]
  },
  {
   "cell_type": "code",
   "execution_count": 7,
   "metadata": {
    "colab": {
     "base_uri": "https://localhost:8080/"
    },
    "executionInfo": {
     "elapsed": 144043,
     "status": "ok",
     "timestamp": 1731937952157,
     "user": {
      "displayName": "Keith Chan",
      "userId": "11054371261221442272"
     },
     "user_tz": -480
    },
    "id": "54t-rZ6pPodv",
    "outputId": "aff25d88-47af-408e-a7a6-c1c0e322fb31"
   },
   "outputs": [
    {
     "name": "stdout",
     "output_type": "stream",
     "text": [
      "-------------------------------------------------------------------\n",
      "Best Parameeters are:  (100, 0.8, 0.01, 0.75)\n"
     ]
    }
   ],
   "source": [
    "# Split the data into training and testing sets\n",
    "X_train, X_test, y_train, y_test = train_test_split(X, y, test_size=0.2, random_state=42)\n",
    "\n",
    "# Define the parameter grid\n",
    "param_grid ={\n",
    "    'n_estimators': [100, 200, 300],\n",
    "    'max_samples': [0.5, 0.8, 1.0],\n",
    "    'contamination': [0.01, 0.05, 0.1],\n",
    "    'max_features': [0.5, 0.75, 1.0]\n",
    "}\n",
    "\n",
    "# Outlier Detection with Isolation Forest\n",
    "iso_forest = IsolationForest()\n",
    "\n",
    "# Function to Evaluate the Model\n",
    "def evaluate_model(X, n_estimators, max_samples, contamination, max_features):\n",
    "  model = IsolationForest(n_estimators=n_estimators,\n",
    "                          max_samples=max_samples,\n",
    "                          contamination=contamination,\n",
    "                          max_features=max_features,\n",
    "                          random_state=42)\n",
    "  model.fit(X)\n",
    "  scores = model.decision_function(X)\n",
    "  predictions = model.predict(X)\n",
    "  labels = np.where(predictions == -1, 0, 1)\n",
    "  return scores, labels\n",
    "\n",
    "# Grid Search for Hyperparameter Tuning\n",
    "best_score = -np.inf\n",
    "best_params = None\n",
    "\n",
    "# Loop through parameter combinations\n",
    "for n_estimators in param_grid['n_estimators']:\n",
    "  for max_samples in param_grid['max_samples']:\n",
    "    for contamination in param_grid['contamination']:\n",
    "      for max_features in param_grid['max_features']:\n",
    "        scores, labels = evaluate_model(X, n_estimators, max_samples, contamination, max_features)\n",
    "        if len(set(labels))>1:\n",
    "          silhouette_avg = silhouette_score(X, labels)\n",
    "        #print(f'Params:n_estimators={n_estimators}, max_samples={max_samples}, contamination={contamination}, max_features={max_features}, 'f'Silhouette Score: {silhouette_avg}')\n",
    "        if silhouette_avg > best_score:\n",
    "          best_score = silhouette_avg\n",
    "          best_params = (n_estimators, max_samples, contamination, max_features)\n",
    "print ('-------------------------------------------------------------------')\n",
    "print('Best Parameeters are: ', best_params)"
   ]
  },
  {
   "cell_type": "code",
   "execution_count": 8,
   "metadata": {
    "colab": {
     "base_uri": "https://localhost:8080/"
    },
    "executionInfo": {
     "elapsed": 741,
     "status": "ok",
     "timestamp": 1731923158061,
     "user": {
      "displayName": "Keith Chan",
      "userId": "11054371261221442272"
     },
     "user_tz": -480
    },
    "id": "T5LMU6BKPodx",
    "outputId": "4fd69fb1-76a1-41c9-8d87-20c48bc441e1"
   },
   "outputs": [
    {
     "name": "stdout",
     "output_type": "stream",
     "text": [
      "-------------------------------------------------------------------\n",
      "Size of training data: (4517, 23)\n",
      "Outliers found: (46, 23)\n"
     ]
    }
   ],
   "source": [
    "# Fit the best Isolation Forest model\n",
    "best_iso_forest = IsolationForest(n_estimators=best_params[0], max_samples=best_params[1], contamination=best_params[2], max_features=best_params[3], random_state=42)\n",
    "best_iso_forest.fit (X_train)\n",
    "\n",
    "# Predict Outliers (-1 for outlier, 1 for inlier)\n",
    "iso_outlier_predictions = best_iso_forest.predict(X_train)\n",
    "\n",
    "# Identify Outliers\n",
    "outliers = X_train[iso_outlier_predictions == -1]\n",
    "\n",
    "# Display Original Data Size and Outliers Found\n",
    "print ('-------------------------------------------------------------------')\n",
    "print (f'Size of training data: {X_train.shape}')\n",
    "print (f'Outliers found: {outliers.shape}')"
   ]
  },
  {
   "cell_type": "code",
   "execution_count": 9,
   "metadata": {
    "colab": {
     "base_uri": "https://localhost:8080/"
    },
    "executionInfo": {
     "elapsed": 765,
     "status": "ok",
     "timestamp": 1731923211266,
     "user": {
      "displayName": "Keith Chan",
      "userId": "11054371261221442272"
     },
     "user_tz": -480
    },
    "id": "BJcs4sjiPodz",
    "outputId": "63c50318-20ed-4a49-8247-a96ff86c1a26"
   },
   "outputs": [
    {
     "name": "stdout",
     "output_type": "stream",
     "text": [
      "-------------------------------------------------------------------\n",
      "Spearman Rank Correlation Coefficient: 0.0632491767045156\n",
      "P-value: 2.100101229705724e-05\n"
     ]
    }
   ],
   "source": [
    "# Calculate & Print Spearman Rank\n",
    "df_spearman = pd.DataFrame(X_train, columns=[f'PC{i+1}' for i in range(X_train.shape[1])])\n",
    "df_spearman['is_outlier'] = np.where(iso_outlier_predictions == -1, 1, 0)\n",
    "df_spearman['mortality'] = y_train.values\n",
    "spearman_corr, p_value = spearmanr(df_spearman['is_outlier'], df_spearman['mortality'])\n",
    "print ('-------------------------------------------------------------------')\n",
    "print(f'Spearman Rank Correlation Coefficient: {spearman_corr}')\n",
    "print(f'P-value: {p_value}')"
   ]
  },
  {
   "cell_type": "code",
   "execution_count": 10,
   "metadata": {
    "colab": {
     "base_uri": "https://localhost:8080/",
     "height": 1000
    },
    "executionInfo": {
     "elapsed": 9274,
     "status": "ok",
     "timestamp": 1731923228321,
     "user": {
      "displayName": "Keith Chan",
      "userId": "11054371261221442272"
     },
     "user_tz": -480
    },
    "id": "lyJEBeWuPod1",
    "outputId": "9b09cbba-1e6a-44d2-a828-f7af209f246a"
   },
   "outputs": [
    {
     "name": "stdout",
     "output_type": "stream",
     "text": [
      "-------------------------------------------------------------------\n",
      "Size of Cleaned X: (4471, 23)\n",
      "\n",
      "-------------------------------------------------------------------\n",
      "Original Dataset Shape: mortality\n",
      "0.0    3360\n",
      "1.0    1111\n",
      "Name: count, dtype: int64\n"
     ]
    },
    {
     "name": "stderr",
     "output_type": "stream",
     "text": [
      "C:\\Users\\johne\\AppData\\Local\\Temp\\ipykernel_147524\\3518132719.py:21: FutureWarning: \n",
      "\n",
      "Passing `palette` without assigning `hue` is deprecated and will be removed in v0.14.0. Assign the `x` variable to `hue` and set `legend=False` for the same effect.\n",
      "\n",
      "  sns.barplot(x=list(class_count_dict.keys()), y=list(class_count_dict.values()), palette='pastel')\n"
     ]
    },
    {
     "data": {
      "image/png": "[encoded data removed]",
      "text/plain": [
       "<Figure size 800x500 with 1 Axes>"
      ]
     },
     "metadata": {},
     "output_type": "display_data"
    },
    {
     "name": "stdout",
     "output_type": "stream",
     "text": [
      "\n",
      "Resampled Dataset Shape: mortality\n",
      "1.0    3360\n",
      "0.0    3360\n",
      "Name: count, dtype: int64\n",
      "\n",
      "-------------------------------------------------------------------\n",
      "Accuracy with class weights balanced: 0.71\n",
      "\n",
      "-------------------------------------------------------------------\n",
      "Classification Report with class weights balanced (0 - Alive / 1 - Dead):\n",
      "\n",
      "\n",
      "              precision    recall  f1-score   support\n",
      "\n",
      "         0.0       0.79      0.84      0.81       850\n",
      "         1.0       0.39      0.31      0.35       280\n",
      "\n",
      "    accuracy                           0.71      1130\n",
      "   macro avg       0.59      0.58      0.58      1130\n",
      "weighted avg       0.69      0.71      0.70      1130\n",
      "\n",
      "\n",
      "-------------------------------------------------------------------\n",
      "Confusion Matrix:\n",
      "[[716 134]\n",
      " [193  87]]\n",
      "\n",
      "-------------------------------------------------------------------\n",
      "ROC-AUC Score with class weights balanced: 0.6686\n"
     ]
    }
   ],
   "source": [
    "# Remove Outliers from the Training Data\n",
    "X_train_cleaned = X_train[iso_outlier_predictions == 1]\n",
    "y_train_cleaned = y_train[iso_outlier_predictions == 1]\n",
    "print ('-------------------------------------------------------------------')\n",
    "print(f'Size of Cleaned X:', X_train_cleaned.shape)\n",
    "\n",
    "# Applying SMOTE (Oversampling Technique)\n",
    "smote = SMOTE(random_state = 42)\n",
    "X_resampled, y_resampled = smote.fit_resample(X_train_cleaned, y_train_cleaned)\n",
    "print ('\\n-------------------------------------------------------------------')\n",
    "print('Original Dataset Shape:', y_train_cleaned.value_counts())\n",
    "\n",
    "# Count the occurrences of each class\n",
    "class_counts = y_train_cleaned.value_counts()\n",
    "\n",
    "# Original and resampled data\n",
    "class_count_dict = {'Class 0': class_counts.get(0, 0), 'Class 1': class_counts.get(1, 0)}\n",
    "\n",
    "# Create a bar plot\n",
    "plt.figure(figsize=(8, 5))\n",
    "sns.barplot(x=list(class_count_dict.keys()), y=list(class_count_dict.values()), palette='pastel')\n",
    "\n",
    "# Add titles and labels\n",
    "plt.title('Count of Classes')\n",
    "plt.xlabel('Class')\n",
    "plt.ylabel('Count')\n",
    "\n",
    "# Show the plot\n",
    "plt.xticks(rotation=0)  # Optional: rotate x-axis labels if needed\n",
    "plt.show()\n",
    "\n",
    "print('\\nResampled Dataset Shape:', y_resampled.value_counts())\n",
    "\n",
    "# Train the Random Forest Classifier by our training data\n",
    "classifier = RandomForestClassifier(class_weight='balanced', random_state=42)\n",
    "classifier.fit(X_resampled, y_resampled)\n",
    "\n",
    "# Make predictions on the test set\n",
    "y_pred = classifier.predict(X_test)\n",
    "\n",
    "# Evaluate the model\n",
    "accuracy = accuracy_score(y_test, y_pred)\n",
    "print ('\\n-------------------------------------------------------------------')\n",
    "print(f'Accuracy with class weights balanced: {accuracy:.2f}')\n",
    "\n",
    "# Print classification report (includes precision, recall, and F1 score)\n",
    "print ('\\n-------------------------------------------------------------------')\n",
    "print('Classification Report with class weights balanced (0 - Alive / 1 - Dead):')\n",
    "print('\\n')\n",
    "print(classification_report(y_test, y_pred))\n",
    "\n",
    "# Get predicted probabilities for the positive class\n",
    "y_pred_proba = classifier.predict_proba(X_test)[:, 1]\n",
    "\n",
    "# Calculate ROC-AUC score\n",
    "roc_auc = roc_auc_score(y_test, y_pred_proba)\n",
    "\n",
    "# Evaluate the model\n",
    "print ('\\n-------------------------------------------------------------------')\n",
    "print(\"Confusion Matrix:\")\n",
    "print(confusion_matrix(y_test, y_pred))\n",
    "\n",
    "print ('\\n-------------------------------------------------------------------')\n",
    "print(f'ROC-AUC Score with class weights balanced: {roc_auc:.4f}')"
   ]
  },
  {
   "cell_type": "code",
   "execution_count": null,
   "metadata": {
    "id": "DBI_aXhDPod3"
   },
   "outputs": [],
   "source": []
  }
 ],
 "metadata": {
  "colab": {
   "provenance": []
  },
  "kernelspec": {
   "display_name": "Python 3",
   "name": "python3"
  },
  "language_info": {
   "codemirror_mode": {
    "name": "ipython",
    "version": 3
   },
   "file_extension": ".py",
   "mimetype": "text/x-python",
   "name": "python",
   "nbconvert_exporter": "python",
   "pygments_lexer": "ipython3",
   "version": "3.10.15"
  }
 },
 "nbformat": 4,
 "nbformat_minor": 0
}
